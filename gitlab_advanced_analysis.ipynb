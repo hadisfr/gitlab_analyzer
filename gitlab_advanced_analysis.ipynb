{
 "cells": [
  {
   "cell_type": "code",
   "execution_count": 1,
   "metadata": {},
   "outputs": [],
   "source": [
    "# Import all necessary modules\n",
    "import mysql.connector as con\n",
    "from mysql.connector import Error\n",
    "import networkx as nx\n",
    "import networkx.algorithms.community as cm\n",
    "import matplotlib.pyplot as plt\n",
    "import datetime as dt\n",
    "from community import community_louvain\n",
    "import snap\n",
    "from random import choice\n",
    "import numpy as np\n",
    "import pandas as pd"
   ]
  },
  {
   "cell_type": "code",
   "execution_count": 2,
   "metadata": {},
   "outputs": [
    {
     "name": "stdout",
     "output_type": "stream",
     "text": [
      "Connected to MySQL Server version  5.7.29-0ubuntu0.18.04.1\n",
      "You're connected to database:  gitlab_data\n"
     ]
    }
   ],
   "source": [
    "# Connect to the database built from the dump file\n",
    "connection = con.connect(host='localhost', database='gitlab_data', user='faraz', password='13771375')\n",
    "if connection.is_connected():\n",
    "    db_Info = connection.get_server_info()\n",
    "    print(\"Connected to MySQL Server version \", db_Info)\n",
    "    cursor = connection.cursor()\n",
    "    cursor.execute(\"select database();\")\n",
    "    record = cursor.fetchone()\n",
    "    print(\"You're connected to database: \", record[0])"
   ]
  },
  {
   "cell_type": "markdown",
   "metadata": {},
   "source": [
    "# Contributions"
   ]
  },
  {
   "cell_type": "code",
   "execution_count": 3,
   "metadata": {},
   "outputs": [
    {
     "name": "stdout",
     "output_type": "stream",
     "text": [
      "90150\n",
      "(333, 143)\n",
      "(698, 450)\n",
      "(733, 526)\n",
      "(733, 527)\n",
      "(1357, 1025)\n",
      "(2546, 2390)\n",
      "(2752, 2803)\n",
      "(3031, 2877)\n",
      "(733, 4304)\n",
      "(4847, 5366)\n",
      "(4849, 5369)\n",
      "(1, 7764)\n",
      "(14, 7764)\n",
      "(116, 7764)\n",
      "(444, 7764)\n"
     ]
    }
   ],
   "source": [
    "# user(bigint), project(bigint)\n",
    "cursor.execute(\"SELECT * FROM contributions;\")\n",
    "contributions = cursor.fetchall()\n",
    "print(len(contributions))\n",
    "for i in range(15):\n",
    "    print(contributions[i])"
   ]
  },
  {
   "cell_type": "code",
   "execution_count": 4,
   "metadata": {},
   "outputs": [],
   "source": [
    "# Build contributors projection graph\n",
    "contributorsGraph = nx.Graph()\n",
    "contributors = set()\n",
    "for elem in contributions:\n",
    "    contributors.add(elem[0])\n",
    "contributors = list(contributors)\n",
    "contributors.sort()\n",
    "contributorsGraph.add_nodes_from(contributors)\n",
    "contProjectSort = sorted(contributions, key=lambda o: o[1])\n",
    "for i in range(len(contProjectSort)):\n",
    "    j = i + 1\n",
    "    while j < len(contProjectSort) and contProjectSort[j][1] == contProjectSort[i][1]:\n",
    "        if contributorsGraph.has_edge(contProjectSort[i][0], contProjectSort[j][0]):\n",
    "            contributorsGraph[contProjectSort[i][0]][contProjectSort[j][0]]['weight'] += 1\n",
    "        else:\n",
    "            contributorsGraph.add_edge(contProjectSort[i][0], contProjectSort[j][0], weight = 1)\n",
    "        j += 1"
   ]
  },
  {
   "cell_type": "code",
   "execution_count": 5,
   "metadata": {},
   "outputs": [],
   "source": [
    "degreeCentrality = nx.degree_centrality(contributorsGraph)\n",
    "topContributors = [(i, degreeCentrality[i]) for i in degreeCentrality]\n",
    "topContributors = sorted(topContributors, key = lambda o: o[1], reverse=True)"
   ]
  },
  {
   "cell_type": "markdown",
   "metadata": {},
   "source": [
    "# Memberships"
   ]
  },
  {
   "cell_type": "code",
   "execution_count": 6,
   "metadata": {},
   "outputs": [
    {
     "name": "stdout",
     "output_type": "stream",
     "text": [
      "251277\n",
      "(1, 7764, None)\n",
      "(1, 13083, 'gitlab-org')\n",
      "(1, 13764, 'gitlab-org')\n",
      "(1, 14022, 'gitlab-org')\n",
      "(1, 14288, 'gitlab-org')\n",
      "(1, 14289, 'gitlab-org')\n",
      "(1, 15195, None)\n",
      "(1, 16648, 'gitlab-org')\n",
      "(1, 17744, 'gitlab-com')\n",
      "(1, 19776, 'gitlab-org')\n",
      "(1, 20085, 'gitlab-org')\n",
      "(1, 20086, 'gitlab-org')\n",
      "(1, 20458, None)\n",
      "(1, 20699, 'gitlab-org')\n",
      "(1, 23081, 'gitlab-org')\n"
     ]
    }
   ],
   "source": [
    "# user(bigint), project(bigint), from_group(text)\n",
    "cursor.execute(\"SELECT * FROM membership;\")\n",
    "memberships = cursor.fetchall()\n",
    "print(len(memberships))\n",
    "for i in range(15):\n",
    "    print(memberships[i])"
   ]
  },
  {
   "cell_type": "code",
   "execution_count": 7,
   "metadata": {},
   "outputs": [],
   "source": [
    "# Save unweighted members projection graph for visualization\n",
    "memberProjectGraph = nx.Graph()\n",
    "members = set()\n",
    "for elem in memberships:\n",
    "    members.add(elem[0])\n",
    "members = list(members)\n",
    "members.sort()\n",
    "memberProjectGraph.add_nodes_from(members, bipartite = 0)\n",
    "maxMember = max(members)\n",
    "members = set()\n",
    "for elem in memberships:\n",
    "    members.add(elem[1] + maxMember)\n",
    "members = list(members)\n",
    "members.sort()\n",
    "memberProjectGraph.add_nodes_from(members, bipartite = 1)\n",
    "for i in memberships:\n",
    "    memberProjectGraph.add_edge(i[0], i[1] + maxMember)\n",
    "nx.write_gexf(memberProjectGraph, \"memberProjectBipartite.gexf\")"
   ]
  },
  {
   "cell_type": "code",
   "execution_count": 8,
   "metadata": {},
   "outputs": [
    {
     "data": {
      "text/plain": [
       "9.581209095951193"
      ]
     },
     "execution_count": 8,
     "metadata": {},
     "output_type": "execute_result"
    }
   ],
   "source": [
    "# Calculate average number of contributors of a project\n",
    "numOfMembers = []\n",
    "for i in range(len(contProjectSort)):\n",
    "    j = i + 1\n",
    "    cnt = 1\n",
    "    while j < len(contProjectSort) and contProjectSort[j][1] == contProjectSort[i][1]:\n",
    "        cnt += 1\n",
    "        j += 1\n",
    "    numOfMembers.append(cnt)\n",
    "sum(numOfMembers) / len(numOfMembers)"
   ]
  },
  {
   "cell_type": "code",
   "execution_count": 9,
   "metadata": {},
   "outputs": [],
   "source": [
    "# Build members projection graph\n",
    "membersGraph = nx.Graph()\n",
    "members = set()\n",
    "for elem in memberships:\n",
    "    members.add(elem[0])\n",
    "members = list(members)\n",
    "members.sort()\n",
    "membersGraph.add_nodes_from(members)\n",
    "membProjectSort = sorted(memberships, key=lambda o: o[1])\n",
    "for i in range(len(membProjectSort)):\n",
    "    j = i + 1\n",
    "    while j < len(membProjectSort) and membProjectSort[j][1] == membProjectSort[i][1]:\n",
    "        if membersGraph.has_edge(membProjectSort[i][0], membProjectSort[j][0]):\n",
    "            membersGraph[membProjectSort[i][0]][membProjectSort[j][0]]['weight'] += 1\n",
    "        else:\n",
    "            membersGraph.add_edge(membProjectSort[i][0], membProjectSort[j][0], weight = 1)\n",
    "        j += 1"
   ]
  },
  {
   "cell_type": "code",
   "execution_count": 10,
   "metadata": {},
   "outputs": [],
   "source": [
    "degreeCentrality = nx.degree_centrality(membersGraph)\n",
    "topMembers = [(i, degreeCentrality[i]) for i in degreeCentrality]\n",
    "topMembers = sorted(topMembers, key = lambda o: o[1], reverse=True)"
   ]
  },
  {
   "cell_type": "code",
   "execution_count": 11,
   "metadata": {},
   "outputs": [
    {
     "data": {
      "text/plain": [
       "59.231672616276065"
      ]
     },
     "execution_count": 11,
     "metadata": {},
     "output_type": "execute_result"
    }
   ],
   "source": [
    "# Calculate average number of members of a project\n",
    "numOfMembers = []\n",
    "for i in range(len(membProjectSort)):\n",
    "    j = i + 1\n",
    "    cnt = 1\n",
    "    while j < len(membProjectSort) and membProjectSort[j][1] == membProjectSort[i][1]:\n",
    "        cnt += 1\n",
    "        j += 1\n",
    "    numOfMembers.append(cnt)\n",
    "sum(numOfMembers) / len(numOfMembers)"
   ]
  },
  {
   "cell_type": "markdown",
   "metadata": {},
   "source": [
    "# Projects"
   ]
  },
  {
   "cell_type": "code",
   "execution_count": 12,
   "metadata": {},
   "outputs": [
    {
     "name": "stdout",
     "output_type": "stream",
     "text": [
      "667686\n",
      "(143, 'teardownwalls', 'leberwurscht', 'TearDownWalls', None, None, 1, 3, 1, 0, 0, 0, 0, 0, 1, 1, 1, 1, 0, None, datetime.datetime(2012, 10, 15, 17, 26, 53), datetime.datetime(2013, 10, 3, 8, 8, 46), 1)\n",
      "\n",
      "(450, 'leiningen', 'technomancy', 'Leiningen', '', None, 1, 0, 1, 4542, 6249512, 6249512, 0, 0, 1, 1, 0, 1, 0, None, datetime.datetime(2012, 12, 12, 21, 30, 14), datetime.datetime(2018, 8, 1, 16, 31, 24), 1)\n",
      "\n",
      "(526, 'heroes-of-wesnoth', 'jonan', 'Heroes of Wesnoth', None, None, 0, 4, 1, 0, 20143145, 20143145, 0, 0, 1, 1, 1, 1, 0, None, datetime.datetime(2012, 12, 18, 17, 25, 39), datetime.datetime(2015, 4, 9, 14, 43, 49), 1)\n",
      "\n",
      "(527, 'k', 'jonan', 'K', None, None, 0, 0, 1, 0, 482345, 482345, 0, 0, 1, 1, 1, 0, 0, None, datetime.datetime(2012, 12, 18, 17, 33, 3), datetime.datetime(2014, 10, 11, 22, 29, 4), 1)\n",
      "\n",
      "(1025, 'hcs_utils', 'hcs', 'hcs_utils', '', None, 0, 0, 1, 144, 671089, 671089, 0, 0, 1, 1, 1, 1, 0, None, datetime.datetime(2013, 1, 6, 20, 35, 42), datetime.datetime(2015, 9, 14, 12, 1, 11), 1)\n",
      "\n"
     ]
    },
    {
     "data": {
      "text/plain": [
       "667686"
      ]
     },
     "execution_count": 12,
     "metadata": {},
     "output_type": "execute_result"
    }
   ],
   "source": [
    "# id(bigint), path(text), owner_path(text), display_name(text), description(text), avatar(text), stars(int),\n",
    "# forks(int), owned_by_user(tinyint), commit_count(bigint), storage_size(bigint), repository_size(bigint),\n",
    "# lfs_objects_size(bigint), archived(tinyint), issues_enabled(tinyint), merge_requests_enabled(tinyint),\n",
    "# wiki_enabled(tinyint), jobs_enabled(tinyint), snippets_enabled(tinyint), ci_config_path(text),\n",
    "# created_at(datetime), last_activity(datetime), members_processed(tinybit)\n",
    "cursor.execute(\"SELECT * FROM projects;\")\n",
    "projects = cursor.fetchall()\n",
    "print(len(projects))\n",
    "for i in range(5):\n",
    "    print(projects[i], end = '\\n\\n')\n",
    "len(projects)"
   ]
  },
  {
   "cell_type": "code",
   "execution_count": 39,
   "metadata": {},
   "outputs": [
    {
     "name": "stdout",
     "output_type": "stream",
     "text": [
      "2012-10-15 17:26:53\n"
     ]
    },
    {
     "data": {
      "image/png": "[encoded data removed]",
      "text/plain": [
       "<matplotlib.figure.Figure at 0x7f5085111320>"
      ]
     },
     "metadata": {},
     "output_type": "display_data"
    }
   ],
   "source": [
    "# Plot the distribution of active period for a project\n",
    "activePeriod = [(i[20], i[21]) for i in projects]\n",
    "print(activePeriod[0][0])\n",
    "activeLength = []\n",
    "for i in activePeriod:\n",
    "    days = (i[1].year - i[0].year)*365 + (i[1].month - i[0].month)*12 + (i[1].day - i[0].day)\n",
    "    if days >= 0:\n",
    "        activeLength.append(days)\n",
    "    else:\n",
    "        activeLength.append(0)\n",
    "days = [0 for i in range(len(activeLength))]\n",
    "for i in range(len(activeLength)):\n",
    "    days[i] += 1\n",
    "DaysNumber = [activeLength.count(0)] + [activeLength.count(i) for i in range(max(activeLength))]\n",
    "# plt.hist(activeLength)\n",
    "plt.plot(DaysNumber)\n",
    "plt.title(\"Distribution of active periods of projects\")\n",
    "plt.xlabel(\"days\")\n",
    "# plt.yscale('log')\n",
    "plt.xscale('log')\n",
    "# plt.xlim(())\n",
    "plt.ylabel('Number of Projects')\n",
    "# plt.grid(True)\n",
    "plt.show()"
   ]
  },
  {
   "cell_type": "code",
   "execution_count": 14,
   "metadata": {},
   "outputs": [
    {
     "data": {
      "text/plain": [
       "0.8250250892611043"
      ]
     },
     "execution_count": 14,
     "metadata": {},
     "output_type": "execute_result"
    }
   ],
   "source": [
    "# Calculate average contribution rate\n",
    "membs = sorted(memberships, key = lambda x: x[1])\n",
    "conts = sorted(contributions, key = lambda x: x[1])\n",
    "i, j = 0, 0\n",
    "results = []\n",
    "while j < len(conts) and i < len(membs):\n",
    "    jcnt = 0\n",
    "    icnt = 0\n",
    "    if membs[i][1] == conts[j][1]:\n",
    "        const = membs[i][1]\n",
    "        jj = j + 1\n",
    "        jcnt = 1\n",
    "        while jj < len(conts) and conts[jj][1] == const:\n",
    "            if (conts[jj][0], conts[jj][1]) in membs:\n",
    "                jcnt += 1\n",
    "            jj += 1\n",
    "        j = jj\n",
    "        ii = i + 1\n",
    "        icnt = 1\n",
    "        while ii < len(membs) and membs[ii][1] == const:\n",
    "            icnt += 1\n",
    "            ii += 1\n",
    "        i = ii\n",
    "#         if icnt > 1:\n",
    "        results.append(jcnt/icnt)\n",
    "    elif i < j:\n",
    "        i += 1\n",
    "    else:\n",
    "        j += 1\n",
    "results\n",
    "sum(results) / len(results)"
   ]
  },
  {
   "cell_type": "markdown",
   "metadata": {},
   "source": [
    "# Users"
   ]
  },
  {
   "cell_type": "code",
   "execution_count": 15,
   "metadata": {},
   "outputs": [
    {
     "name": "stdout",
     "output_type": "stream",
     "text": [
      "30020\n",
      "(1, 'Sid Sijbrandij', 'sytses', 'https://secure.gravatar.com/avatar/78b060780d36f51a6763ac9831a4f022?s=80&d=identicon', 1)\n",
      "\n",
      "(3, 'Travis B. Hartwell', 'travisbhartwell', 'https://secure.gravatar.com/avatar/285ee64568dfd7f3476eb7b6302372b9?s=80&d=identicon', 1)\n",
      "\n",
      "(14, 'Karen Sijbrandij', 'karen', 'https://secure.gravatar.com/avatar/8b82bce21ec5797488e720b8ed601159?s=80&d=identicon', 1)\n",
      "\n",
      "(24, 'Philip', 'philip', 'https://secure.gravatar.com/avatar/ad2511e99e9a358c81f7b9530865ef86?s=80&d=identicon', 1)\n",
      "\n",
      "(29, 'Idlecool', 'idlecool', 'https://secure.gravatar.com/avatar/2d67341a96eb446ce24987a539687f6e?s=80&d=identicon', 1)\n",
      "\n"
     ]
    }
   ],
   "source": [
    "# id(bigint), name(text), username(text), avatar(text), contributions_processed(tinyint)\n",
    "cursor.execute(\"SELECT * FROM users;\")\n",
    "users = cursor.fetchall()\n",
    "print(len(users))\n",
    "for i in range(5):\n",
    "    print(users[i], end = '\\n\\n')"
   ]
  },
  {
   "cell_type": "code",
   "execution_count": 17,
   "metadata": {},
   "outputs": [
    {
     "name": "stdout",
     "output_type": "stream",
     "text": [
      "sytses\n",
      "axil\n",
      "dblessing\n",
      "JobV\n",
      "twk3\n",
      "marin\n",
      "balasankarc\n",
      "tmaczukin\n",
      "dzaporozhets\n",
      "Haydn\n"
     ]
    }
   ],
   "source": [
    "# Recognize top members for testing graph building\n",
    "nominees = [member[0] for member in topMembers[:10]]\n",
    "for j in range(len(nominees)):\n",
    "    for i in users:\n",
    "        if i[0] == nominees[j]:\n",
    "            print(i[2])\n",
    "            break"
   ]
  },
  {
   "cell_type": "code",
   "execution_count": 38,
   "metadata": {},
   "outputs": [
    {
     "data": {
      "image/png": "[encoded data removed]",
      "text/plain": [
       "<matplotlib.figure.Figure at 0x7f5086254400>"
      ]
     },
     "metadata": {},
     "output_type": "display_data"
    }
   ],
   "source": [
    "# Evaluate average degree, distribution of nodal degrees, number of connected components,\n",
    "# giant connected component size, distribution of size of communities in contributions graph\n",
    "\n",
    "# nx.average_degree_connectivity(contributorsGraph) # Worked => A dictionary\n",
    "# degreeDic = dict(contributorsGraph.degree())\n",
    "# sumDegree = 0\n",
    "# for i in degreeDic:\n",
    "#     sumDegree += degreeDic[i]\n",
    "# sumDegree / len(degreeDic)\n",
    "#\n",
    "degrees = [contributorsGraph.degree(n) for n in contributorsGraph.nodes()]\n",
    "contsDegreesNumber = [degrees.count(0)] + [degrees.count(i-1) for i in range(1, max(degrees)+1)]\n",
    "# plt.hist(degrees)\n",
    "plt.plot(contsDegreesNumber)\n",
    "plt.title('Distribution of degrees of nodes in contributions graph')\n",
    "# plt.yscale('log')\n",
    "plt.xscale('log')\n",
    "plt.xlabel('Degree')\n",
    "plt.ylabel('Number of Nodes')\n",
    "plt.show() # Worked\n",
    "#\n",
    "# connectedComponents = []\n",
    "# for i in nx.connected_components(contributorsGraph):\n",
    "#     connectedComponents.append(contributorsGraph.subgraph(i))\n",
    "# len(connectedComponents) # Worked\n",
    "#\n",
    "# hubs, _ = nx.hits(contributorsGraph) # Worked\n",
    "# hubsList = [(i, hubs[i]) for i in hubs if hubs[i] != 0]\n",
    "# hubsList1 = [(i, hubs[i]) for i in hubs if hubs[i] == 0]\n",
    "# hubsSorted = sorted(hubsList, key = lambda o: o[1], reverse=True)\n",
    "# hubsSorted\n",
    "# len(hubsList1)\n",
    "#\n",
    "# giantConnectedComponent = max(nx.connected_components(contributorsGraph), key=len) # Worked\n",
    "# len(giantConnectedComponent)\n",
    "#\n",
    "# partition = community_louvain.best_partition(contributorsGraph) # Worked\n",
    "# communities = set()\n",
    "# for i in partition:\n",
    "#     communities.add(partition[i])\n",
    "# max(communities)\n",
    "\n",
    "# parList = [(i, partition[i]) for i in partition]\n",
    "# parListSorted = sorted(parList, key = lambda o: o[1])\n",
    "# numOfCommunityMembers = []\n",
    "# for i in range(len(parListSorted)):\n",
    "#     j = i + 1\n",
    "#     cnt = 1\n",
    "#     while j < len(parListSorted) and parListSorted[j][1] == parListSorted[i][1]:\n",
    "#         cnt += 1\n",
    "#         j += 1\n",
    "#     numOfCommunityMembers.append(cnt)\n",
    "# communityNumber = [numOfCommunityMembers.count(1)] + [numOfCommunityMembers.count(i) for i in range(1, max(numOfCommunityMembers)+1)]\n",
    "# plt.hist(numOfCommunityMembers)\n",
    "# plt.plot(communityNumber)\n",
    "# plt.title('Distribution of sizes of communities in contributions graph')\n",
    "# plt.yscale('log')\n",
    "# plt.xscale('log')\n",
    "# plt.xlabel('Size')\n",
    "# plt.ylabel('Number of Communities')\n",
    "# plt.show()"
   ]
  },
  {
   "cell_type": "code",
   "execution_count": 35,
   "metadata": {},
   "outputs": [
    {
     "data": {
      "image/png": "[encoded data removed]",
      "text/plain": [
       "<matplotlib.figure.Figure at 0x7f5085e73ac8>"
      ]
     },
     "metadata": {},
     "output_type": "display_data"
    }
   ],
   "source": [
    "# Plot distribution of nodal degrees\n",
    "degrees = [contributorsGraph.degree(n) for n in contributorsGraph.nodes()]\n",
    "degreeX = [i for i in range(max(degrees) + 1)]\n",
    "degreeY = [degrees.count(i) for i in degreeX]\n",
    "numOfGroups = 100\n",
    "Xgroup = [0 for i in range(numOfGroups)]\n",
    "maxDegree = max(degrees)\n",
    "for i in degrees:\n",
    "    Xgroup[int(i*numOfGroups/(maxDegree + 1))] += 1\n",
    "plt.plot(Xgroup)\n",
    "plt.title('Distribution of degrees of nodes in contributions graph')\n",
    "plt.yscale('linear')\n",
    "plt.ylim(0, 1500)\n",
    "plt.xscale('log')\n",
    "plt.xlabel('Degree')\n",
    "plt.ylabel('Number')\n",
    "plt.show()"
   ]
  },
  {
   "cell_type": "code",
   "execution_count": 38,
   "metadata": {},
   "outputs": [
    {
     "name": "stdout",
     "output_type": "stream",
     "text": [
      "0.8923076923076922\n",
      "3\n",
      "4.580297397769518\n",
      "10\n",
      "4.193377143443886\n",
      "12\n",
      "4.485911224737179\n",
      "17\n"
     ]
    }
   ],
   "source": [
    "# Calculate effective and full diameter in contributors graph\n",
    "unweightedSnapContributorsGraph = snap.TUNGraph.New()\n",
    "contributorsGraph.edges()\n",
    "for i in contributorsGraph.nodes():\n",
    "    unweightedSnapContributorsGraph.AddNode(i)\n",
    "for i in contributorsGraph.edges():\n",
    "    unweightedSnapContributorsGraph.AddEdge(i[0], i[1])\n",
    "diameter = 0\n",
    "print(snap.GetBfsEffDiam(unweightedSnapContributorsGraph, 1))\n",
    "print(snap.GetBfsFullDiam(unweightedSnapContributorsGraph, 1))\n",
    "\n",
    "print(snap.GetBfsEffDiam(unweightedSnapContributorsGraph, 10))\n",
    "print(snap.GetBfsFullDiam(unweightedSnapContributorsGraph, 10))\n",
    "\n",
    "print(snap.GetBfsEffDiam(unweightedSnapContributorsGraph, 100))\n",
    "print(snap.GetBfsFullDiam(unweightedSnapContributorsGraph, 100))\n",
    "\n",
    "print(snap.GetBfsEffDiam(unweightedSnapContributorsGraph, 1000))\n",
    "print(snap.GetBfsFullDiam(unweightedSnapContributorsGraph, 1000))"
   ]
  },
  {
   "cell_type": "code",
   "execution_count": 40,
   "metadata": {},
   "outputs": [
    {
     "name": "stdout",
     "output_type": "stream",
     "text": [
      "0.9673465399059067\n",
      "0.4967346539905907\n",
      "0.4554091781062845\n",
      "0.47811882267454275\n",
      "0.46807052661512744\n"
     ]
    }
   ],
   "source": [
    "# Calculate clustering coefficients in contributors graph\n",
    "print(snap.GetClustCf(unweightedSnapContributorsGraph, 1))\n",
    "print(snap.GetClustCf(unweightedSnapContributorsGraph, 10))\n",
    "print(snap.GetClustCf(unweightedSnapContributorsGraph, 100))\n",
    "print(snap.GetClustCf(unweightedSnapContributorsGraph, 1000))\n",
    "print(snap.GetClustCf(unweightedSnapContributorsGraph, 10000))"
   ]
  },
  {
   "cell_type": "code",
   "execution_count": 32,
   "metadata": {},
   "outputs": [
    {
     "data": {
      "image/png": "[encoded data removed]",
      "text/plain": [
       "<matplotlib.figure.Figure at 0x7f508dd0e080>"
      ]
     },
     "metadata": {},
     "output_type": "display_data"
    }
   ],
   "source": [
    "# Plot the distribution of size of cliques in contributors graph\n",
    "\n",
    "# taken_nodes = set()\n",
    "# while len(taken_nodes) < 1000:\n",
    "#     node = choice(list(contributorsGraph.nodes()))\n",
    "#     if node not in taken_nodes:\n",
    "#         taken_nodes.add(node)\n",
    "# subgraph = contributorsGraph.subgraph(taken_nodes)\n",
    "# cliques = []\n",
    "# for i in nx.algorithms.clique.find_cliques(subgraph):\n",
    "#     if len(subgraph.subgraph(i)) != 1:\n",
    "#         cliques.append(subgraph.subgraph(i))\n",
    "# print(len(cliques))\n",
    "# cliqueSizes = [len(i) for i in cliques]\n",
    "# cliqueSizesNumber = [cliqueSizes.count(i) for i in range(max(cliqueSizes))]\n",
    "# communityNumber = [cliqueSizesNumber.count(0)] + [cliqueSizesNumber.count(i-1) for i in range(1, max(cliqueSizesNumber)+1)]\n",
    "plt.plot(cliqueSizesNumber)\n",
    "# plt.hist(cliqueSizes)\n",
    "plt.title('Distribution of clique sizes in contributions graph')\n",
    "# plt.yscale('log')\n",
    "plt.xscale('log')\n",
    "plt.xlabel('Size')\n",
    "plt.ylabel('Number')\n",
    "plt.show()"
   ]
  },
  {
   "cell_type": "code",
   "execution_count": 31,
   "metadata": {},
   "outputs": [
    {
     "data": {
      "image/png": "[encoded data removed]",
      "text/plain": [
       "<matplotlib.figure.Figure at 0x7f50864fb828>"
      ]
     },
     "metadata": {},
     "output_type": "display_data"
    }
   ],
   "source": [
    "# Plot the distribution of number of contributors to a project\n",
    "\n",
    "numOfContributors = []\n",
    "for i in range(len(contProjectSort)):\n",
    "    j = i + 1\n",
    "    cnt = 0\n",
    "    while j < len(contProjectSort) and contProjectSort[j][1] == contProjectSort[i][1]:\n",
    "        cnt += 1\n",
    "        j += 1\n",
    "    numOfContributors.append(cnt)\n",
    "contributorsNumber = [numOfContributors.count(0)] + [numOfContributors.count(i-1) for i in range(1, max(numOfContributors))]\n",
    "# plt.hist(numOfContributors, color = 'lightsalmon')\n",
    "plt.plot(contributorsNumber)\n",
    "plt.title('Distribution of numbers of contributors to projects')\n",
    "# plt.yscale('log')\n",
    "plt.xscale('log')\n",
    "plt.xlabel('Number of Contributors')\n",
    "plt.ylabel('Number of Projects')\n",
    "# plt.grid(True)\n",
    "plt.show()"
   ]
  },
  {
   "cell_type": "code",
   "execution_count": 30,
   "metadata": {},
   "outputs": [
    {
     "data": {
      "image/png": "[encoded data removed]",
      "text/plain": [
       "<matplotlib.figure.Figure at 0x7f507f5414a8>"
      ]
     },
     "metadata": {},
     "output_type": "display_data"
    }
   ],
   "source": [
    "# Plot the distribution of number of members of a project\n",
    "\n",
    "numOfMembers = []\n",
    "for i in range(len(membProjectSort)):\n",
    "    j = i + 1\n",
    "    cnt = 1\n",
    "    while j < len(membProjectSort) and membProjectSort[j][1] == membProjectSort[i][1]:\n",
    "        cnt += 1\n",
    "        j += 1\n",
    "    numOfMembers.append(cnt)\n",
    "membersNumber = [numOfMembers.count(0)] + [numOfMembers.count(i-1) for i in range(1, max(numOfMembers))]\n",
    "# plt.hist(numOfMembers, color = 'limegreen')\n",
    "plt.plot(membersNumber)\n",
    "# plt.yscale('log')\n",
    "plt.xscale('log')\n",
    "plt.xlabel('Number of Members')\n",
    "plt.ylabel('Number of Projects')\n",
    "plt.title('Distribution of numbers of members of projects')\n",
    "# plt.grid(True)\n",
    "plt.show()"
   ]
  },
  {
   "cell_type": "code",
   "execution_count": 25,
   "metadata": {},
   "outputs": [
    {
     "name": "stdout",
     "output_type": "stream",
     "text": [
      "0.07405063291139241\n",
      "2223\n"
     ]
    },
    {
     "data": {
      "text/plain": [
       "30020"
      ]
     },
     "execution_count": 25,
     "metadata": {},
     "output_type": "execute_result"
    }
   ],
   "source": [
    "# Evaluate average degree, distribution of nodal degrees, number of connected components,\n",
    "# giant connected component size, distribution of size of communities in members graph\n",
    "\n",
    "len(membersGraph.nodes())\n",
    "\n",
    "# degreeDic = membersGraph.degree()\n",
    "# sumDegree = 0\n",
    "# for i in degreeDic:\n",
    "#     sumDegree += degreeDic[i]\n",
    "# sumDegree / len(degreeDic)\n",
    "#\n",
    "# degrees = [membersGraph.degree(n) for n in membersGraph.nodes()]\n",
    "# membDegreesNumber = [degrees.count(0)] + [degrees.count(i-1) for i in range(1, max(degrees)+1)]\n",
    "# plt.hist(degrees)\n",
    "# plt.plot(membDegreesNumber)\n",
    "# plt.title('Distribution of degrees of nodes in members graph')\n",
    "# plt.yscale('log')\n",
    "# plt.xscale('log')\n",
    "# plt.xlabel('Degree')\n",
    "# plt.ylabel('Number of Nodes')\n",
    "# plt.show() # Worked\n",
    "#\n",
    "# connectedComponents = []\n",
    "# for i in nx.connected_components(membersGraph):\n",
    "#     connectedComponents.append(membersGraph.subgraph(i))\n",
    "# len(connectedComponents) # Worked\n",
    "#\n",
    "# hubs, _ = nx.hits(membersGraph) # Worked\n",
    "# hubsList = [(i, hubs[i]) for i in hubs if hubs[i] != 0]\n",
    "# hubsList1 = [(i, hubs[i]) for i in hubs if hubs[i] == 0]\n",
    "# hubsSorted = sorted(hubsList, key = lambda o: o[1], reverse=True)\n",
    "# hubsSorted\n",
    "# len(hubsList1)\n",
    "#\n",
    "# giantConnectedComponent = max(nx.connected_components(membersGraph), key=len) # Worked\n",
    "# len(giantConnectedComponent)\n",
    "# avgColabs = [len(i) for i in nx.connected_components(membersGraph)]\n",
    "# avgColabsNum = 0\n",
    "# for i in avgColabs:\n",
    "#     avgColabsNum += i * (i-1)\n",
    "# avgColabsNum / sum(avgColabs)\n",
    "\n",
    "membersComponents = [membersGraph.subgraph(c) for c in nx.connected_components(membersGraph)]\n",
    "membersComponents.sort(key=len)\n",
    "count = 0\n",
    "for i in membersComponents:\n",
    "    if len(i) == 1:\n",
    "        count += 1\n",
    "print(count / sum([len(i) for i in membersComponents]))\n",
    "print(count)\n",
    "sum([len(i) for i in membersComponents])\n",
    "# print(len(giantConnectedComponent) / sum(membersComponents))\n",
    "#\n",
    "# partition = community_louvain.best_partition(membersGraph) # Worked\n",
    "# communities = set()\n",
    "# for i in partition:\n",
    "#     communities.add(partition[i])\n",
    "# max(communities)\n",
    "\n",
    "# parList = [(i, partition[i]) for i in partition]\n",
    "# parListSorted = sorted(parList, key = lambda o: o[1])\n",
    "# numOfCommunityMembers = []\n",
    "# for i in range(len(parListSorted)):\n",
    "#     j = i + 1\n",
    "#     cnt = 0\n",
    "#     while j < len(parListSorted) and parListSorted[j][1] == parListSorted[i][1]:\n",
    "#         cnt += 1\n",
    "#         j += 1\n",
    "#     numOfCommunityMembers.append(cnt)\n",
    "# communityNumber = [numOfCommunityMembers.count(0)] + [numOfCommunityMembers.count(i-1) for i in range(1, max(numOfCommunityMembers)+1)]\n",
    "# plt.hist(numOfCommunityMembers)\n",
    "# plt.plot(communityNumber)\n",
    "# plt.title('Distribution of sizes of communities in members graph')\n",
    "# plt.yscale('log')\n",
    "# plt.xscale('log')\n",
    "# plt.xlabel('Size')\n",
    "# plt.ylabel('Number of Communities')\n",
    "# plt.show()"
   ]
  },
  {
   "cell_type": "code",
   "execution_count": 25,
   "metadata": {},
   "outputs": [
    {
     "data": {
      "image/png": "[encoded data removed]",
      "text/plain": [
       "<matplotlib.figure.Figure at 0x7f5086390048>"
      ]
     },
     "metadata": {},
     "output_type": "display_data"
    }
   ],
   "source": [
    "# Plot the distribution of nodal degrees in members graph\n",
    "plt.plot(membDegreesNumber)\n",
    "plt.title('Distribution of degrees for nodes in members graph')\n",
    "# plt.yscale('log')\n",
    "# plt.xscale('log')\n",
    "plt.xlabel('Degree')\n",
    "plt.ylabel('Number of Nodes')\n",
    "plt.show()"
   ]
  },
  {
   "cell_type": "code",
   "execution_count": 27,
   "metadata": {},
   "outputs": [
    {
     "name": "stdout",
     "output_type": "stream",
     "text": [
      "0.8956521739130435\n",
      "1\n",
      "9.437861635220127\n",
      "16\n",
      "9.913540663272327\n",
      "18\n",
      "10.2536\n",
      "19\n"
     ]
    }
   ],
   "source": [
    "# Calculate effective and full diameter in members graph\n",
    "unweightedSnapMembersGraph = snap.TUNGraph.New()\n",
    "membersGraph.edges()\n",
    "for i in membersGraph.nodes():\n",
    "    unweightedSnapMembersGraph.AddNode(i)\n",
    "for i in membersGraph.edges():\n",
    "    unweightedSnapMembersGraph.AddEdge(i[0], i[1])\n",
    "diameter = 0\n",
    "print(snap.GetBfsEffDiam(unweightedSnapMembersGraph, 1))\n",
    "print(snap.GetBfsFullDiam(unweightedSnapMembersGraph, 1))\n",
    "\n",
    "print(snap.GetBfsEffDiam(unweightedSnapMembersGraph, 10))\n",
    "print(snap.GetBfsFullDiam(unweightedSnapMembersGraph, 10))\n",
    "\n",
    "print(snap.GetBfsEffDiam(unweightedSnapMembersGraph, 100))\n",
    "print(snap.GetBfsFullDiam(unweightedSnapMembersGraph, 100))\n",
    "\n",
    "print(snap.GetBfsEffDiam(unweightedSnapMembersGraph, 1000))\n",
    "print(snap.GetBfsFullDiam(unweightedSnapMembersGraph, 1000))"
   ]
  },
  {
   "cell_type": "code",
   "execution_count": 28,
   "metadata": {},
   "outputs": [
    {
     "name": "stdout",
     "output_type": "stream",
     "text": [
      "1.0\n",
      "1.0\n",
      "0.9037863809819968\n",
      "0.8927158499228085\n",
      "0.8886278372027074\n"
     ]
    }
   ],
   "source": [
    "# Calculate clustering coefficients in members graph\n",
    "print(snap.GetClustCf(unweightedSnapMembersGraph, 1))\n",
    "print(snap.GetClustCf(unweightedSnapMembersGraph, 10))\n",
    "print(snap.GetClustCf(unweightedSnapMembersGraph, 100))\n",
    "print(snap.GetClustCf(unweightedSnapMembersGraph, 1000))\n",
    "print(snap.GetClustCf(unweightedSnapMembersGraph, 10000))"
   ]
  },
  {
   "cell_type": "code",
   "execution_count": 19,
   "metadata": {},
   "outputs": [
    {
     "name": "stdout",
     "output_type": "stream",
     "text": [
      "4272\n"
     ]
    },
    {
     "data": {
      "image/png": "[encoded data removed]",
      "text/plain": [
       "<matplotlib.figure.Figure at 0x7f508d039ba8>"
      ]
     },
     "metadata": {},
     "output_type": "display_data"
    }
   ],
   "source": [
    "# Plot the distribution of size of cliques in members graph\n",
    "taken_nodes = set()\n",
    "while len(taken_nodes) < 10000:\n",
    "    node = choice(list(membersGraph.nodes()))\n",
    "    if node not in taken_nodes:\n",
    "        taken_nodes.add(node)\n",
    "subgraph = membersGraph.subgraph(taken_nodes)\n",
    "cliques = []\n",
    "for i in nx.algorithms.clique.find_cliques(subgraph):\n",
    "#     if len(subgraph.subgraph(i)) != 1:\n",
    "    cliques.append(subgraph.subgraph(i))\n",
    "print(len(cliques))\n",
    "cliqueSizes = [len(i) for i in cliques]\n",
    "cliquesNumber = [cliqueSizes.count(0)] + [cliqueSizes.count(i-1) for i in range(1, max(cliqueSizes)+1)]\n",
    "# plt.hist(cliqueSizes)\n",
    "plt.plot(cliquesNumber)\n",
    "# plt.yscale('log')\n",
    "plt.xscale('log')\n",
    "plt.xlabel('Size')\n",
    "plt.ylabel('Number')\n",
    "plt.title('Distribution of clique sizes in members graph')\n",
    "plt.show()"
   ]
  },
  {
   "cell_type": "code",
   "execution_count": 30,
   "metadata": {},
   "outputs": [
    {
     "name": "stdout",
     "output_type": "stream",
     "text": [
      "0.512468831833\n",
      "0.813531181331\n"
     ]
    }
   ],
   "source": [
    "# Calculate degree assortativity for members and contributors graph\n",
    "print(nx.degree_assortativity_coefficient(membersGraph))\n",
    "print(nx.degree_assortativity_coefficient(contributorsGraph))"
   ]
  },
  {
   "cell_type": "code",
   "execution_count": 32,
   "metadata": {},
   "outputs": [
    {
     "name": "stdout",
     "output_type": "stream",
     "text": [
      "MySQL connection is closed\n"
     ]
    }
   ],
   "source": [
    "# Close database connection\n",
    "if (connection.is_connected()):\n",
    "    cursor.close()\n",
    "    connection.close()\n",
    "    print(\"MySQL connection is closed\")"
   ]
  }
 ],
 "metadata": {
  "kernelspec": {
   "display_name": "Python 3",
   "language": "python",
   "name": "python3"
  },
  "language_info": {
   "codemirror_mode": {
    "name": "ipython",
    "version": 3
   },
   "file_extension": ".py",
   "mimetype": "text/x-python",
   "name": "python",
   "nbconvert_exporter": "python",
   "pygments_lexer": "ipython3",
   "version": "3.6.9"
  }
 },
 "nbformat": 4,
 "nbformat_minor": 2
}
